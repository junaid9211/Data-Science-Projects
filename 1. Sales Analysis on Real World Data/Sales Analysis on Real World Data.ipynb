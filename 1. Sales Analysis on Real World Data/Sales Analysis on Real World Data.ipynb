{
 "cells": [
  {
   "cell_type": "markdown",
   "id": "c958b69b",
   "metadata": {},
   "source": [
    "# Data Science: Sales Analysis on Real World Data"
   ]
  },
  {
   "cell_type": "markdown",
   "id": "ec44133f",
   "metadata": {},
   "source": [
    "In this notebook I practiced pandas and seaborn by solving data science problems\n",
    "\n",
    "I'll be doing some sales analysis on real world data\n",
    "\n",
    "* First I will import some libraries\n",
    "* Then I will combine all the csv files into a single pandas DataFrame\n",
    "* Then I will be doing some data clean up\n",
    "* Then I will create some additional columns that would allow me to solve the problems"
   ]
  },
  {
   "cell_type": "markdown",
   "id": "85e34ad3",
   "metadata": {},
   "source": [
    "## Import Libraries"
   ]
  },
  {
   "cell_type": "code",
   "execution_count": 1,
   "id": "ff453507",
   "metadata": {},
   "outputs": [],
   "source": [
    "import numpy as np\n",
    "import pandas as pd\n",
    "import matplotlib.pyplot as plt\n",
    "import seaborn as sns\n",
    "%matplotlib inline"
   ]
  },
  {
   "cell_type": "markdown",
   "id": "f48f600a",
   "metadata": {},
   "source": [
    "# Task 1\n",
    "\n",
    "**Combine all the csv files of each month sales into one DataFrame**"
   ]
  },
  {
   "cell_type": "code",
   "execution_count": 6,
   "id": "69d22aa3",
   "metadata": {},
   "outputs": [],
   "source": [
    "import os\n",
    "files_list = os.listdir('Sales_Data/')\n",
    "all_df = []\n",
    "for f in files_list:\n",
    "    all_df.append(pd.read_csv('Sales_Data/' + f))\n",
    "    \n",
    "all_month = pd.concat(all_df, axis=0)"
   ]
  },
  {
   "cell_type": "markdown",
   "id": "9963a748",
   "metadata": {},
   "source": [
    "# Task 2 Data Clean up"
   ]
  },
  {
   "cell_type": "markdown",
   "id": "e01b4c98",
   "metadata": {},
   "source": [
    "**Drop na values**"
   ]
  },
  {
   "cell_type": "code",
   "execution_count": 21,
   "id": "d095a5c7",
   "metadata": {},
   "outputs": [],
   "source": [
    "all_month.dropna(how='all', inplace=True)"
   ]
  },
  {
   "cell_type": "markdown",
   "id": "9dff0431",
   "metadata": {},
   "source": [
    "**Remove rows where the header is repeated**"
   ]
  },
  {
   "cell_type": "code",
   "execution_count": null,
   "id": "2fb93ff0",
   "metadata": {},
   "outputs": [],
   "source": [
    "all_month['Order Date'] = pd.to_datetime(all_month['Order Data'])"
   ]
  },
  {
   "cell_type": "markdown",
   "id": "e377c08d",
   "metadata": {},
   "source": [
    "**Change type of Order Date from str to datetime**"
   ]
  },
  {
   "cell_type": "code",
   "execution_count": 38,
   "id": "be901df2",
   "metadata": {},
   "outputs": [],
   "source": [
    "all_month['Order Date']=pd.to_datetime(all_month['Order Date'])"
   ]
  },
  {
   "cell_type": "code",
   "execution_count": null,
   "id": "a45782ea",
   "metadata": {},
   "outputs": [],
   "source": []
  },
  {
   "cell_type": "code",
   "execution_count": null,
   "id": "0e6b79cc",
   "metadata": {},
   "outputs": [],
   "source": []
  },
  {
   "cell_type": "markdown",
   "id": "149981b1",
   "metadata": {},
   "source": [
    "## Augment data with additional columns\n",
    "\n",
    "**Add month column**"
   ]
  },
  {
   "cell_type": "code",
   "execution_count": 54,
   "id": "2764eb66",
   "metadata": {},
   "outputs": [],
   "source": [
    "all_month['month'] = all_month['Order Date'].apply(lambda x : x.month)"
   ]
  },
  {
   "cell_type": "markdown",
   "id": "a51104aa",
   "metadata": {},
   "source": [
    "**Add Sales column**"
   ]
  },
  {
   "cell_type": "code",
   "execution_count": 62,
   "id": "2b699326",
   "metadata": {
    "collapsed": true
   },
   "outputs": [
    {
     "name": "stderr",
     "output_type": "stream",
     "text": [
      "C:\\Users\\junai\\AppData\\Local\\Temp\\ipykernel_1864\\692678401.py:1: SettingWithCopyWarning: \n",
      "A value is trying to be set on a copy of a slice from a DataFrame.\n",
      "Try using .loc[row_indexer,col_indexer] = value instead\n",
      "\n",
      "See the caveats in the documentation: https://pandas.pydata.org/pandas-docs/stable/user_guide/indexing.html#returning-a-view-versus-a-copy\n",
      "  all_month['Price Each'] = pd.to_numeric(all_month['Price Each'])\n",
      "C:\\Users\\junai\\AppData\\Local\\Temp\\ipykernel_1864\\692678401.py:2: SettingWithCopyWarning: \n",
      "A value is trying to be set on a copy of a slice from a DataFrame.\n",
      "Try using .loc[row_indexer,col_indexer] = value instead\n",
      "\n",
      "See the caveats in the documentation: https://pandas.pydata.org/pandas-docs/stable/user_guide/indexing.html#returning-a-view-versus-a-copy\n",
      "  all_month['Quantity Ordered'] = pd.to_numeric(all_month['Quantity Ordered'])\n"
     ]
    }
   ],
   "source": [
    "all_month['Price Each'] = pd.to_numeric(all_month['Price Each'])\n",
    "all_month['Quantity Ordered'] = pd.to_numeric(all_month['Quantity Ordered'])"
   ]
  },
  {
   "cell_type": "code",
   "execution_count": 63,
   "id": "a9959715",
   "metadata": {
    "collapsed": true
   },
   "outputs": [
    {
     "name": "stderr",
     "output_type": "stream",
     "text": [
      "C:\\Users\\junai\\AppData\\Local\\Temp\\ipykernel_1864\\4145469244.py:1: SettingWithCopyWarning: \n",
      "A value is trying to be set on a copy of a slice from a DataFrame.\n",
      "Try using .loc[row_indexer,col_indexer] = value instead\n",
      "\n",
      "See the caveats in the documentation: https://pandas.pydata.org/pandas-docs/stable/user_guide/indexing.html#returning-a-view-versus-a-copy\n",
      "  all_month['sales'] = all_month['Price Each'] * all_month['Quantity Ordered']\n"
     ]
    }
   ],
   "source": [
    "all_month['sales'] = all_month['Price Each'] * all_month['Quantity Ordered']"
   ]
  },
  {
   "cell_type": "markdown",
   "id": "08117f44",
   "metadata": {},
   "source": [
    "**Add City column**"
   ]
  },
  {
   "cell_type": "code",
   "execution_count": 88,
   "id": "1a31525e",
   "metadata": {},
   "outputs": [],
   "source": [
    "def get_city(address):\n",
    "    city_name =  address.split(',')[1]\n",
    "    state_code = address.split(',')[2].split()[0]\n",
    "    return f'{city_name} ({state_code})'"
   ]
  },
  {
   "cell_type": "code",
   "execution_count": 90,
   "id": "cbddf92b",
   "metadata": {
    "collapsed": true
   },
   "outputs": [
    {
     "name": "stderr",
     "output_type": "stream",
     "text": [
      "C:\\Users\\junai\\AppData\\Local\\Temp\\ipykernel_1864\\2906420940.py:1: SettingWithCopyWarning: \n",
      "A value is trying to be set on a copy of a slice from a DataFrame.\n",
      "Try using .loc[row_indexer,col_indexer] = value instead\n",
      "\n",
      "See the caveats in the documentation: https://pandas.pydata.org/pandas-docs/stable/user_guide/indexing.html#returning-a-view-versus-a-copy\n",
      "  all_month['city'] = all_month['Purchase Address'].apply(lambda x : get_city(x))\n"
     ]
    }
   ],
   "source": [
    "all_month['city'] = all_month['Purchase Address'].apply(lambda x : get_city(x))\n"
   ]
  },
  {
   "cell_type": "markdown",
   "id": "8ef3187d",
   "metadata": {},
   "source": [
    "**Add hour column**"
   ]
  },
  {
   "cell_type": "code",
   "execution_count": 119,
   "id": "01399ffa",
   "metadata": {
    "collapsed": true
   },
   "outputs": [
    {
     "name": "stderr",
     "output_type": "stream",
     "text": [
      "C:\\Users\\junai\\AppData\\Local\\Temp\\ipykernel_1864\\3931158679.py:1: SettingWithCopyWarning: \n",
      "A value is trying to be set on a copy of a slice from a DataFrame.\n",
      "Try using .loc[row_indexer,col_indexer] = value instead\n",
      "\n",
      "See the caveats in the documentation: https://pandas.pydata.org/pandas-docs/stable/user_guide/indexing.html#returning-a-view-versus-a-copy\n",
      "  all_month['hour'] = all_month['Order Date'].apply(lambda x : x.hour)\n"
     ]
    }
   ],
   "source": [
    "all_month['hour'] = all_month['Order Date'].apply(lambda x : x.hour)"
   ]
  },
  {
   "cell_type": "code",
   "execution_count": null,
   "id": "a4419ccd",
   "metadata": {},
   "outputs": [],
   "source": []
  },
  {
   "cell_type": "code",
   "execution_count": null,
   "id": "4e610f32",
   "metadata": {},
   "outputs": [],
   "source": []
  },
  {
   "cell_type": "markdown",
   "id": "30279959",
   "metadata": {},
   "source": [
    "## Question no 1: What was the best month for sales? how much money was earned?"
   ]
  },
  {
   "cell_type": "code",
   "execution_count": 71,
   "id": "6bdafe20",
   "metadata": {},
   "outputs": [
    {
     "data": {
      "text/plain": [
       "month\n",
       "12    4613443.34\n",
       "10    3736726.88\n",
       "4     3390670.24\n",
       "11    3199603.20\n",
       "5     3152606.75\n",
       "3     2807100.38\n",
       "7     2647775.76\n",
       "6     2577802.26\n",
       "8     2244467.88\n",
       "2     2202022.42\n",
       "9     2097560.13\n",
       "1     1822256.73\n",
       "Name: sales, dtype: float64"
      ]
     },
     "execution_count": 71,
     "metadata": {},
     "output_type": "execute_result"
    }
   ],
   "source": [
    "sales_by_month = all_month.groupby('month').sum()['sales'].sort_values(ascending=False)\n",
    "sales_by_month"
   ]
  },
  {
   "cell_type": "markdown",
   "id": "efd7ba78",
   "metadata": {},
   "source": [
    "**Top month was december, around 4.6 million was earned**"
   ]
  },
  {
   "cell_type": "markdown",
   "id": "08f15082",
   "metadata": {},
   "source": [
    "## Plot the sales using seaborn"
   ]
  },
  {
   "cell_type": "code",
   "execution_count": 82,
   "id": "b668b474",
   "metadata": {},
   "outputs": [
    {
     "data": {
      "text/plain": [
       "Text(0, 0.5, 'Sales in Millions')"
      ]
     },
     "execution_count": 82,
     "metadata": {},
     "output_type": "execute_result"
    },
    {
     "data": {
      "image/png": "[encoded data removed]",
      "text/plain": [
       "<Figure size 640x400 with 1 Axes>"
      ]
     },
     "metadata": {},
     "output_type": "display_data"
    }
   ],
   "source": [
    "plt.figure(figsize=(8,5), dpi=80)\n",
    "sns.set_style('whitegrid')\n",
    "sns.barplot(x='month', y='sales', data=sales_by_month.reset_index(), palette='viridis')\n",
    "sns.despine()\n",
    "plt.xlabel('Month')\n",
    "plt.ylabel('Sales in Millions')"
   ]
  },
  {
   "cell_type": "markdown",
   "id": "5536958e",
   "metadata": {},
   "source": [
    "## What city made the highest sales?"
   ]
  },
  {
   "cell_type": "code",
   "execution_count": 97,
   "id": "99a1e58d",
   "metadata": {},
   "outputs": [
    {
     "data": {
      "text/html": [
       "<div>\n",
       "<style scoped>\n",
       "    .dataframe tbody tr th:only-of-type {\n",
       "        vertical-align: middle;\n",
       "    }\n",
       "\n",
       "    .dataframe tbody tr th {\n",
       "        vertical-align: top;\n",
       "    }\n",
       "\n",
       "    .dataframe thead th {\n",
       "        text-align: right;\n",
       "    }\n",
       "</style>\n",
       "<table border=\"1\" class=\"dataframe\">\n",
       "  <thead>\n",
       "    <tr style=\"text-align: right;\">\n",
       "      <th></th>\n",
       "      <th>city</th>\n",
       "      <th>sales</th>\n",
       "    </tr>\n",
       "  </thead>\n",
       "  <tbody>\n",
       "    <tr>\n",
       "      <th>8</th>\n",
       "      <td>San Francisco (CA)</td>\n",
       "      <td>8262203.91</td>\n",
       "    </tr>\n",
       "    <tr>\n",
       "      <th>4</th>\n",
       "      <td>Los Angeles (CA)</td>\n",
       "      <td>5452570.80</td>\n",
       "    </tr>\n",
       "    <tr>\n",
       "      <th>5</th>\n",
       "      <td>New York City (NY)</td>\n",
       "      <td>4664317.43</td>\n",
       "    </tr>\n",
       "    <tr>\n",
       "      <th>2</th>\n",
       "      <td>Boston (MA)</td>\n",
       "      <td>3661642.01</td>\n",
       "    </tr>\n",
       "    <tr>\n",
       "      <th>0</th>\n",
       "      <td>Atlanta (GA)</td>\n",
       "      <td>2795498.58</td>\n",
       "    </tr>\n",
       "    <tr>\n",
       "      <th>3</th>\n",
       "      <td>Dallas (TX)</td>\n",
       "      <td>2767975.40</td>\n",
       "    </tr>\n",
       "    <tr>\n",
       "      <th>9</th>\n",
       "      <td>Seattle (WA)</td>\n",
       "      <td>2747755.48</td>\n",
       "    </tr>\n",
       "    <tr>\n",
       "      <th>7</th>\n",
       "      <td>Portland (OR)</td>\n",
       "      <td>1870732.34</td>\n",
       "    </tr>\n",
       "    <tr>\n",
       "      <th>1</th>\n",
       "      <td>Austin (TX)</td>\n",
       "      <td>1819581.75</td>\n",
       "    </tr>\n",
       "    <tr>\n",
       "      <th>6</th>\n",
       "      <td>Portland (ME)</td>\n",
       "      <td>449758.27</td>\n",
       "    </tr>\n",
       "  </tbody>\n",
       "</table>\n",
       "</div>"
      ],
      "text/plain": [
       "                  city       sales\n",
       "8   San Francisco (CA)  8262203.91\n",
       "4     Los Angeles (CA)  5452570.80\n",
       "5   New York City (NY)  4664317.43\n",
       "2          Boston (MA)  3661642.01\n",
       "0         Atlanta (GA)  2795498.58\n",
       "3          Dallas (TX)  2767975.40\n",
       "9         Seattle (WA)  2747755.48\n",
       "7        Portland (OR)  1870732.34\n",
       "1          Austin (TX)  1819581.75\n",
       "6        Portland (ME)   449758.27"
      ]
     },
     "execution_count": 97,
     "metadata": {},
     "output_type": "execute_result"
    }
   ],
   "source": [
    "sales_by_city = all_month.groupby('city').sum().reset_index()[['city', 'sales']]\n",
    "sales_by_city.sort_values(by='sales', ascending=False)"
   ]
  },
  {
   "cell_type": "markdown",
   "id": "02e138f2",
   "metadata": {},
   "source": [
    "### Create a bar plot for this data"
   ]
  },
  {
   "cell_type": "code",
   "execution_count": 105,
   "id": "bca586e9",
   "metadata": {},
   "outputs": [
    {
     "data": {
      "image/png": "[encoded data removed]",
      "text/plain": [
       "<Figure size 640x400 with 1 Axes>"
      ]
     },
     "metadata": {},
     "output_type": "display_data"
    }
   ],
   "source": [
    "plt.figure(figsize=(8,5), dpi=80)\n",
    "sns.barplot(x='city', y='sales', data=sales_by_city, palette='viridis')\n",
    "plt.xticks(rotation='vertical')\n",
    "plt.xlabel('City')\n",
    "plt.ylabel('Sales in milions')\n",
    "plt.show()"
   ]
  },
  {
   "cell_type": "markdown",
   "id": "b747417c",
   "metadata": {},
   "source": [
    "**San Francisco (CA) had the highest sales**"
   ]
  },
  {
   "cell_type": "markdown",
   "id": "be0c3e44",
   "metadata": {},
   "source": [
    "## What city had the highest number of sales?"
   ]
  },
  {
   "cell_type": "code",
   "execution_count": 189,
   "id": "d92bf1bb",
   "metadata": {},
   "outputs": [
    {
     "data": {
      "text/html": [
       "<div>\n",
       "<style scoped>\n",
       "    .dataframe tbody tr th:only-of-type {\n",
       "        vertical-align: middle;\n",
       "    }\n",
       "\n",
       "    .dataframe tbody tr th {\n",
       "        vertical-align: top;\n",
       "    }\n",
       "\n",
       "    .dataframe thead th {\n",
       "        text-align: right;\n",
       "    }\n",
       "</style>\n",
       "<table border=\"1\" class=\"dataframe\">\n",
       "  <thead>\n",
       "    <tr style=\"text-align: right;\">\n",
       "      <th></th>\n",
       "      <th>city</th>\n",
       "      <th>sales</th>\n",
       "    </tr>\n",
       "  </thead>\n",
       "  <tbody>\n",
       "    <tr>\n",
       "      <th>8</th>\n",
       "      <td>San Francisco (CA)</td>\n",
       "      <td>42898</td>\n",
       "    </tr>\n",
       "    <tr>\n",
       "      <th>4</th>\n",
       "      <td>Los Angeles (CA)</td>\n",
       "      <td>28498</td>\n",
       "    </tr>\n",
       "    <tr>\n",
       "      <th>5</th>\n",
       "      <td>New York City (NY)</td>\n",
       "      <td>23848</td>\n",
       "    </tr>\n",
       "    <tr>\n",
       "      <th>2</th>\n",
       "      <td>Boston (MA)</td>\n",
       "      <td>19092</td>\n",
       "    </tr>\n",
       "    <tr>\n",
       "      <th>0</th>\n",
       "      <td>Atlanta (GA)</td>\n",
       "      <td>14253</td>\n",
       "    </tr>\n",
       "    <tr>\n",
       "      <th>3</th>\n",
       "      <td>Dallas (TX)</td>\n",
       "      <td>14240</td>\n",
       "    </tr>\n",
       "    <tr>\n",
       "      <th>9</th>\n",
       "      <td>Seattle (WA)</td>\n",
       "      <td>14119</td>\n",
       "    </tr>\n",
       "    <tr>\n",
       "      <th>7</th>\n",
       "      <td>Portland (OR)</td>\n",
       "      <td>9617</td>\n",
       "    </tr>\n",
       "    <tr>\n",
       "      <th>1</th>\n",
       "      <td>Austin (TX)</td>\n",
       "      <td>9509</td>\n",
       "    </tr>\n",
       "    <tr>\n",
       "      <th>6</th>\n",
       "      <td>Portland (ME)</td>\n",
       "      <td>2363</td>\n",
       "    </tr>\n",
       "  </tbody>\n",
       "</table>\n",
       "</div>"
      ],
      "text/plain": [
       "                  city  sales\n",
       "8   San Francisco (CA)  42898\n",
       "4     Los Angeles (CA)  28498\n",
       "5   New York City (NY)  23848\n",
       "2          Boston (MA)  19092\n",
       "0         Atlanta (GA)  14253\n",
       "3          Dallas (TX)  14240\n",
       "9         Seattle (WA)  14119\n",
       "7        Portland (OR)   9617\n",
       "1          Austin (TX)   9509\n",
       "6        Portland (ME)   2363"
      ]
     },
     "execution_count": 189,
     "metadata": {},
     "output_type": "execute_result"
    }
   ],
   "source": [
    "num_sales_by_city = all_month.drop_duplicates('Order ID').groupby('city').count().reset_index()[['city', 'sales']]\n",
    "num_sales_by_city.sort_values(by='sales', ascending=False)"
   ]
  },
  {
   "cell_type": "markdown",
   "id": "aad6b23a",
   "metadata": {},
   "source": [
    "**San Francisco (CA) had the highest number of sales which is about 44 thousands**"
   ]
  },
  {
   "cell_type": "markdown",
   "id": "4fb718c4",
   "metadata": {},
   "source": [
    "## Create a bar plot for this data"
   ]
  },
  {
   "cell_type": "code",
   "execution_count": 190,
   "id": "d982f91b",
   "metadata": {},
   "outputs": [
    {
     "data": {
      "image/png": "[encoded data removed]",
      "text/plain": [
       "<Figure size 640x400 with 1 Axes>"
      ]
     },
     "metadata": {},
     "output_type": "display_data"
    }
   ],
   "source": [
    "plt.figure(figsize=(8,5), dpi=80)\n",
    "sns.barplot(x='city', y='sales', data=num_sales_by_city, palette='viridis')\n",
    "plt.xticks(rotation='vertical')\n",
    "plt.xlabel('City')\n",
    "plt.ylabel('Number of Sales')\n",
    "plt.show()"
   ]
  },
  {
   "cell_type": "markdown",
   "id": "b152c396",
   "metadata": {},
   "source": [
    "### Question 3 What time should we display advertisements to maximize the likelihood of customer's buying the product"
   ]
  },
  {
   "cell_type": "code",
   "execution_count": 128,
   "id": "c2cf29c2",
   "metadata": {},
   "outputs": [
    {
     "data": {
      "image/png": "[encoded data removed]",
      "text/plain": [
       "<Figure size 640x400 with 1 Axes>"
      ]
     },
     "metadata": {},
     "output_type": "display_data"
    }
   ],
   "source": [
    "plt.figure(figsize=(8,5), dpi=80)\n",
    "sns.countplot(x='hour', data=all_month, palette='viridis')\n",
    "plt.ylabel('Number of sales')\n",
    "plt.xlabel('Hour')\n",
    "plt.show()"
   ]
  },
  {
   "cell_type": "markdown",
   "id": "8050712e",
   "metadata": {},
   "source": [
    "**Most of the orders are placed between 11 am and 8 pm, therefore it is a better idea to show ads during this time**"
   ]
  },
  {
   "cell_type": "markdown",
   "id": "9facb896",
   "metadata": {},
   "source": [
    "## Now plot the same graph but for each city"
   ]
  },
  {
   "cell_type": "code",
   "execution_count": 147,
   "id": "fd212ee6",
   "metadata": {},
   "outputs": [],
   "source": [
    "sales_by_hour_city = all_month.groupby(['city', 'hour']).count().reset_index()[['city', 'hour', 'sales']]"
   ]
  },
  {
   "cell_type": "code",
   "execution_count": 148,
   "id": "32021ed8",
   "metadata": {},
   "outputs": [
    {
     "data": {
      "text/plain": [
       "<matplotlib.legend.Legend at 0x145c6567190>"
      ]
     },
     "execution_count": 148,
     "metadata": {},
     "output_type": "execute_result"
    },
    {
     "data": {
      "image/png": "[encoded data removed]",
      "text/plain": [
       "<Figure size 1280x400 with 1 Axes>"
      ]
     },
     "metadata": {},
     "output_type": "display_data"
    }
   ],
   "source": [
    "plt.figure(figsize=(16,5), dpi=80)\n",
    "sns.barplot(x='city',y='sales', hue='hour', data=sales_by_hour_city)\n",
    "plt.legend(bbox_to_anchor=(1.05, 1), loc=2, borderaxespad=0.)"
   ]
  },
  {
   "cell_type": "markdown",
   "id": "7aba1761",
   "metadata": {},
   "source": [
    "**The buying pattern for all city looks somewhat similar**"
   ]
  },
  {
   "cell_type": "markdown",
   "id": "388231c2",
   "metadata": {},
   "source": [
    "## Question 4 What products are sold the most?"
   ]
  },
  {
   "cell_type": "code",
   "execution_count": 184,
   "id": "2b498883",
   "metadata": {},
   "outputs": [
    {
     "data": {
      "text/html": [
       "<div>\n",
       "<style scoped>\n",
       "    .dataframe tbody tr th:only-of-type {\n",
       "        vertical-align: middle;\n",
       "    }\n",
       "\n",
       "    .dataframe tbody tr th {\n",
       "        vertical-align: top;\n",
       "    }\n",
       "\n",
       "    .dataframe thead th {\n",
       "        text-align: right;\n",
       "    }\n",
       "</style>\n",
       "<table border=\"1\" class=\"dataframe\">\n",
       "  <thead>\n",
       "    <tr style=\"text-align: right;\">\n",
       "      <th></th>\n",
       "      <th>Product</th>\n",
       "      <th>Quantity Ordered</th>\n",
       "    </tr>\n",
       "  </thead>\n",
       "  <tbody>\n",
       "    <tr>\n",
       "      <th>5</th>\n",
       "      <td>AAA Batteries (4-pack)</td>\n",
       "      <td>31017</td>\n",
       "    </tr>\n",
       "    <tr>\n",
       "      <th>4</th>\n",
       "      <td>AA Batteries (4-pack)</td>\n",
       "      <td>27635</td>\n",
       "    </tr>\n",
       "    <tr>\n",
       "      <th>15</th>\n",
       "      <td>USB-C Charging Cable</td>\n",
       "      <td>23975</td>\n",
       "    </tr>\n",
       "    <tr>\n",
       "      <th>12</th>\n",
       "      <td>Lightning Charging Cable</td>\n",
       "      <td>23217</td>\n",
       "    </tr>\n",
       "    <tr>\n",
       "      <th>17</th>\n",
       "      <td>Wired Headphones</td>\n",
       "      <td>20557</td>\n",
       "    </tr>\n",
       "    <tr>\n",
       "      <th>6</th>\n",
       "      <td>Apple Airpods Headphones</td>\n",
       "      <td>15661</td>\n",
       "    </tr>\n",
       "    <tr>\n",
       "      <th>7</th>\n",
       "      <td>Bose SoundSport Headphones</td>\n",
       "      <td>13457</td>\n",
       "    </tr>\n",
       "  </tbody>\n",
       "</table>\n",
       "</div>"
      ],
      "text/plain": [
       "                       Product  Quantity Ordered\n",
       "5       AAA Batteries (4-pack)             31017\n",
       "4        AA Batteries (4-pack)             27635\n",
       "15        USB-C Charging Cable             23975\n",
       "12    Lightning Charging Cable             23217\n",
       "17            Wired Headphones             20557\n",
       "6     Apple Airpods Headphones             15661\n",
       "7   Bose SoundSport Headphones             13457"
      ]
     },
     "execution_count": 184,
     "metadata": {},
     "output_type": "execute_result"
    }
   ],
   "source": [
    "# Top 7 sold products\n",
    "products_df = all_month.groupby('Product').sum().reset_index()[['Product', 'Quantity Ordered']]\n",
    "products_df.sort_values(by='Quantity Ordered', ascending=False).head(7)"
   ]
  },
  {
   "cell_type": "markdown",
   "id": "aaaec067",
   "metadata": {},
   "source": [
    "## Plot the number of products sold"
   ]
  },
  {
   "cell_type": "code",
   "execution_count": 185,
   "id": "9540d0ef",
   "metadata": {},
   "outputs": [
    {
     "data": {
      "image/png": "[encoded data removed]",
      "text/plain": [
       "<Figure size 560x400 with 1 Axes>"
      ]
     },
     "metadata": {},
     "output_type": "display_data"
    }
   ],
   "source": [
    "plt.figure(figsize=(7,5), dpi=80)\n",
    "sns.barplot(x='Product', y='Quantity Ordered', data=products_df, order=products_df.sort_values(by='Quantity Ordered')['Product'], palette='viridis')\n",
    "plt.xticks(rotation='vertical')\n",
    "plt.ylabel('Number of sold products')\n",
    "plt.xlabel('Product Name')\n",
    "plt.show()"
   ]
  },
  {
   "cell_type": "code",
   "execution_count": null,
   "id": "8ed659a3",
   "metadata": {},
   "outputs": [],
   "source": []
  },
  {
   "cell_type": "code",
   "execution_count": null,
   "id": "552f4e70",
   "metadata": {},
   "outputs": [],
   "source": []
  }
 ],
 "metadata": {
  "kernelspec": {
   "display_name": "Python 3 (ipykernel)",
   "language": "python",
   "name": "python3"
  },
  "language_info": {
   "codemirror_mode": {
    "name": "ipython",
    "version": 3
   },
   "file_extension": ".py",
   "mimetype": "text/x-python",
   "name": "python",
   "nbconvert_exporter": "python",
   "pygments_lexer": "ipython3",
   "version": "3.9.12"
  }
 },
 "nbformat": 4,
 "nbformat_minor": 5
}
